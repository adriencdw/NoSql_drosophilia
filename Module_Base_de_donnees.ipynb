{
 "cells": [
  {
   "cell_type": "code",
   "execution_count": 1,
   "id": "0c886d90-c28a-4ccd-8caf-f2b385dcd4a4",
   "metadata": {},
   "outputs": [],
   "source": [
    "# Replace this IP address according to the VM assigned to you\n",
    "vm_ip_address = \"132.217.140.136\""
   ]
  },
  {
   "cell_type": "markdown",
   "id": "4035dcc0-a77e-4c72-8b75-24233943bfc1",
   "metadata": {},
   "source": [
    "# PostgreSQL"
   ]
  },
  {
   "cell_type": "code",
   "execution_count": 2,
   "id": "e7c338ce-cab2-42cb-b337-2767c561d89f",
   "metadata": {},
   "outputs": [
    {
     "ename": "ModuleNotFoundError",
     "evalue": "No module named 'psycopg2'",
     "output_type": "error",
     "traceback": [
      "\u001b[1;31m---------------------------------------------------------------------------\u001b[0m",
      "\u001b[1;31mModuleNotFoundError\u001b[0m                       Traceback (most recent call last)",
      "\u001b[1;32mc:\\Users\\AdrienCartonDeWiart\\OneDrive - Ananda Devices\\Documents\\CRIM\\NoSql_drosophilia\\Module_Base_de_donnees.ipynb Cell 3'\u001b[0m in \u001b[0;36m<cell line: 1>\u001b[1;34m()\u001b[0m\n\u001b[1;32m----> <a href='vscode-notebook-cell:/c%3A/Users/AdrienCartonDeWiart/OneDrive%20-%20Ananda%20Devices/Documents/CRIM/NoSql_drosophilia/Module_Base_de_donnees.ipynb#ch0000002?line=0'>1</a>\u001b[0m \u001b[39mimport\u001b[39;00m \u001b[39mpsycopg2\u001b[39;00m\n",
      "\u001b[1;31mModuleNotFoundError\u001b[0m: No module named 'psycopg2'"
     ]
    }
   ],
   "source": [
    "import psycopg2"
   ]
  },
  {
   "cell_type": "code",
   "execution_count": null,
   "id": "60bd5109-0b7e-4ebd-b122-6b56d4cddc1e",
   "metadata": {},
   "outputs": [],
   "source": [
    "#postgres_conn = psycopg2.connect(host=vm_ip_address, database=\"numeria\", user=\"numeria\", password=\"qwerty\")\n",
    "postgres_conn = psycopg2.connect(host=vm_ip_address, database=\"numeria\", user=\"student\", password=\"postgres123\")\n",
    "postgres_cur = postgres_conn.cursor()"
   ]
  },
  {
   "cell_type": "code",
   "execution_count": null,
   "id": "a70c219e-27ee-4c46-9a50-eea70948e608",
   "metadata": {},
   "outputs": [],
   "source": [
    "postgres_cur.execute(\"CREATE TABLE test (test_id INTEGER NOT NULL, PRIMARY KEY (test_id))\")"
   ]
  },
  {
   "cell_type": "code",
   "execution_count": null,
   "id": "4a471a00-230e-447c-8b53-f0e8ba821ffa",
   "metadata": {},
   "outputs": [],
   "source": [
    "postgres_cur.execute(\"INSERT INTO test VALUES(1)\")"
   ]
  },
  {
   "cell_type": "code",
   "execution_count": null,
   "id": "eab7192a-1081-4d14-8db7-fe72a2e0abd8",
   "metadata": {},
   "outputs": [],
   "source": [
    "postgres_conn.commit()"
   ]
  },
  {
   "cell_type": "code",
   "execution_count": null,
   "id": "17c3f397-ec61-49c1-bff2-2e8414bac37a",
   "metadata": {},
   "outputs": [],
   "source": [
    "postgres_cur.execute(\"SELECT * FROM test\")"
   ]
  },
  {
   "cell_type": "code",
   "execution_count": null,
   "id": "5adc1f19-3d4d-49f7-b1df-08ad53554cff",
   "metadata": {},
   "outputs": [],
   "source": [
    "postgres_cur.execute(\"INSERT INTO state VALUES('state_name 543', 730432810, 422672.0, 'usa', 'capital 0', 1041984.0);\")\n",
    "postgres_conn.commit()"
   ]
  },
  {
   "cell_type": "code",
   "execution_count": null,
   "id": "7be1cca1-1b3f-40ba-ac05-ef1144ad34fd",
   "metadata": {},
   "outputs": [],
   "source": [
    "postgres_cur.execute(\"SELECT count(*) FROM state\")"
   ]
  },
  {
   "cell_type": "code",
   "execution_count": null,
   "id": "022a1328-5460-4c49-8f1b-821162668362",
   "metadata": {},
   "outputs": [],
   "source": [
    "postgres_cur.fetchall()\n",
    "#cur.fetchone(); \n",
    "#cur.fetchmany(size);"
   ]
  },
  {
   "cell_type": "code",
   "execution_count": null,
   "id": "629f73fe-1560-40a3-b958-43861e8a1e28",
   "metadata": {},
   "outputs": [],
   "source": [
    "postgres_cur.close()"
   ]
  },
  {
   "cell_type": "code",
   "execution_count": null,
   "id": "02032141-0099-4cb9-b56b-83d5b3fe9796",
   "metadata": {},
   "outputs": [],
   "source": [
    "# if error : psycopg2.errors.InFailedSqlTransaction: current transaction is aborted, commands ignored until end of transaction block\n",
    "postgres_conn.rollback()\n",
    "\n",
    "# recommendation : faire un block try...except... et faire le conn.rollback() dans le except"
   ]
  },
  {
   "cell_type": "markdown",
   "id": "a97e5900-2caf-4393-874b-d784fa6e8ff7",
   "metadata": {},
   "source": [
    "# MongoDB"
   ]
  },
  {
   "cell_type": "code",
   "execution_count": 2,
   "id": "78eb6dd0-f37f-47da-9f3e-65667f282219",
   "metadata": {},
   "outputs": [],
   "source": [
    "from pymongo import MongoClient\n",
    "import pandas as pd\n",
    "import pymongo"
   ]
  },
  {
   "cell_type": "code",
   "execution_count": 3,
   "id": "9e437683",
   "metadata": {},
   "outputs": [
    {
     "data": {
      "text/plain": [
       "'3.12.3'"
      ]
     },
     "execution_count": 3,
     "metadata": {},
     "output_type": "execute_result"
    }
   ],
   "source": [
    "pymongo.version"
   ]
  },
  {
   "cell_type": "code",
   "execution_count": 4,
   "id": "02e6e6e7-5436-4aee-95c9-405c665e53a8",
   "metadata": {},
   "outputs": [],
   "source": [
    "#mongo_client = MongoClient(f\"{vm_ip_address}:27017\", username = 'root', password = 'rootPassNumeria')\n",
    "mongo_client = MongoClient(f\"{vm_ip_address}:27017\", username = 'student', password = 'mongodb123')\n",
    "#, connect=False"
   ]
  },
  {
   "cell_type": "code",
   "execution_count": 5,
   "id": "7b4de3f4-0aea-4e6d-85b8-b69ec5c96d72",
   "metadata": {},
   "outputs": [],
   "source": [
    "mongo_db=mongo_client.numeria"
   ]
  },
  {
   "cell_type": "code",
   "execution_count": 6,
   "id": "3e116773-e9d4-4619-aee1-91ee8db10656",
   "metadata": {},
   "outputs": [],
   "source": [
    "mongo_db_custom=mongo_client.numeria_custom"
   ]
  },
  {
   "cell_type": "code",
   "execution_count": null,
   "id": "29c79165-6a10-4923-89b4-68945c56b2dd",
   "metadata": {},
   "outputs": [],
   "source": [
    "#mongo_db.state.insert_one({'name': 'oh hi', 'number' : 3})\n",
    "#mongo_db_custom.state.insert_one({'name': 'oh hi', 'number' : 3})"
   ]
  },
  {
   "cell_type": "code",
   "execution_count": 7,
   "id": "dfed1567-85f6-48d1-80b1-4bd9a3f417f6",
   "metadata": {},
   "outputs": [
    {
     "ename": "ServerSelectionTimeoutError",
     "evalue": "132.217.140.136:27017: timed out, Timeout: 30s, Topology Description: <TopologyDescription id: 62b8d1a8b57c82830dde79b1, topology_type: Single, servers: [<ServerDescription ('132.217.140.136', 27017) server_type: Unknown, rtt: None, error=NetworkTimeout('132.217.140.136:27017: timed out')>]>",
     "output_type": "error",
     "traceback": [
      "\u001b[1;31m---------------------------------------------------------------------------\u001b[0m",
      "\u001b[1;31mServerSelectionTimeoutError\u001b[0m               Traceback (most recent call last)",
      "\u001b[1;32mc:\\Users\\AdrienCartonDeWiart\\OneDrive - Ananda Devices\\Documents\\CRIM\\NoSql_drosophilia\\Module_Base_de_donnees.ipynb Cell 21'\u001b[0m in \u001b[0;36m<cell line: 1>\u001b[1;34m()\u001b[0m\n\u001b[1;32m----> <a href='vscode-notebook-cell:/c%3A/Users/AdrienCartonDeWiart/OneDrive%20-%20Ananda%20Devices/Documents/CRIM/NoSql_drosophilia/Module_Base_de_donnees.ipynb#ch0000020?line=0'>1</a>\u001b[0m \u001b[39mlist\u001b[39;49m(mongo_db\u001b[39m.\u001b[39;49mstate\u001b[39m.\u001b[39;49mfind({}))\n",
      "File \u001b[1;32mc:\\Users\\AdrienCartonDeWiart\\miniconda3\\envs\\test\\lib\\site-packages\\pymongo\\cursor.py:1238\u001b[0m, in \u001b[0;36mCursor.next\u001b[1;34m(self)\u001b[0m\n\u001b[0;32m   1236\u001b[0m \u001b[39mif\u001b[39;00m \u001b[39mself\u001b[39m\u001b[39m.\u001b[39m__empty:\n\u001b[0;32m   1237\u001b[0m     \u001b[39mraise\u001b[39;00m \u001b[39mStopIteration\u001b[39;00m\n\u001b[1;32m-> 1238\u001b[0m \u001b[39mif\u001b[39;00m \u001b[39mlen\u001b[39m(\u001b[39mself\u001b[39m\u001b[39m.\u001b[39m__data) \u001b[39mor\u001b[39;00m \u001b[39mself\u001b[39;49m\u001b[39m.\u001b[39;49m_refresh():\n\u001b[0;32m   1239\u001b[0m     \u001b[39mif\u001b[39;00m \u001b[39mself\u001b[39m\u001b[39m.\u001b[39m__manipulate:\n\u001b[0;32m   1240\u001b[0m         _db \u001b[39m=\u001b[39m \u001b[39mself\u001b[39m\u001b[39m.\u001b[39m__collection\u001b[39m.\u001b[39mdatabase\n",
      "File \u001b[1;32mc:\\Users\\AdrienCartonDeWiart\\miniconda3\\envs\\test\\lib\\site-packages\\pymongo\\cursor.py:1130\u001b[0m, in \u001b[0;36mCursor._refresh\u001b[1;34m(self)\u001b[0m\n\u001b[0;32m   1127\u001b[0m     \u001b[39mreturn\u001b[39;00m \u001b[39mlen\u001b[39m(\u001b[39mself\u001b[39m\u001b[39m.\u001b[39m__data)\n\u001b[0;32m   1129\u001b[0m \u001b[39mif\u001b[39;00m \u001b[39mnot\u001b[39;00m \u001b[39mself\u001b[39m\u001b[39m.\u001b[39m__session:\n\u001b[1;32m-> 1130\u001b[0m     \u001b[39mself\u001b[39m\u001b[39m.\u001b[39m__session \u001b[39m=\u001b[39m \u001b[39mself\u001b[39;49m\u001b[39m.\u001b[39;49m__collection\u001b[39m.\u001b[39;49mdatabase\u001b[39m.\u001b[39;49mclient\u001b[39m.\u001b[39;49m_ensure_session()\n\u001b[0;32m   1132\u001b[0m \u001b[39mif\u001b[39;00m \u001b[39mself\u001b[39m\u001b[39m.\u001b[39m__id \u001b[39mis\u001b[39;00m \u001b[39mNone\u001b[39;00m:  \u001b[39m# Query\u001b[39;00m\n\u001b[0;32m   1133\u001b[0m     \u001b[39mif\u001b[39;00m (\u001b[39mself\u001b[39m\u001b[39m.\u001b[39m__min \u001b[39mor\u001b[39;00m \u001b[39mself\u001b[39m\u001b[39m.\u001b[39m__max) \u001b[39mand\u001b[39;00m \u001b[39mnot\u001b[39;00m \u001b[39mself\u001b[39m\u001b[39m.\u001b[39m__hint:\n",
      "File \u001b[1;32mc:\\Users\\AdrienCartonDeWiart\\miniconda3\\envs\\test\\lib\\site-packages\\pymongo\\mongo_client.py:1935\u001b[0m, in \u001b[0;36mMongoClient._ensure_session\u001b[1;34m(self, session)\u001b[0m\n\u001b[0;32m   1930\u001b[0m     \u001b[39mreturn\u001b[39;00m session\n\u001b[0;32m   1932\u001b[0m \u001b[39mtry\u001b[39;00m:\n\u001b[0;32m   1933\u001b[0m     \u001b[39m# Don't make implicit sessions causally consistent. Applications\u001b[39;00m\n\u001b[0;32m   1934\u001b[0m     \u001b[39m# should always opt-in.\u001b[39;00m\n\u001b[1;32m-> 1935\u001b[0m     \u001b[39mreturn\u001b[39;00m \u001b[39mself\u001b[39;49m\u001b[39m.\u001b[39;49m__start_session(\u001b[39mTrue\u001b[39;49;00m, causal_consistency\u001b[39m=\u001b[39;49m\u001b[39mFalse\u001b[39;49;00m)\n\u001b[0;32m   1936\u001b[0m \u001b[39mexcept\u001b[39;00m (ConfigurationError, InvalidOperation):\n\u001b[0;32m   1937\u001b[0m     \u001b[39m# Sessions not supported, or multiple users authenticated.\u001b[39;00m\n\u001b[0;32m   1938\u001b[0m     \u001b[39mreturn\u001b[39;00m \u001b[39mNone\u001b[39;00m\n",
      "File \u001b[1;32mc:\\Users\\AdrienCartonDeWiart\\miniconda3\\envs\\test\\lib\\site-packages\\pymongo\\mongo_client.py:1883\u001b[0m, in \u001b[0;36mMongoClient.__start_session\u001b[1;34m(self, implicit, **kwargs)\u001b[0m\n\u001b[0;32m   1879\u001b[0m     \u001b[39mraise\u001b[39;00m InvalidOperation(\u001b[39m\"\u001b[39m\u001b[39mCannot call start_session when\u001b[39m\u001b[39m\"\u001b[39m\n\u001b[0;32m   1880\u001b[0m                            \u001b[39m\"\u001b[39m\u001b[39m multiple users are authenticated\u001b[39m\u001b[39m\"\u001b[39m)\n\u001b[0;32m   1882\u001b[0m \u001b[39m# Raises ConfigurationError if sessions are not supported.\u001b[39;00m\n\u001b[1;32m-> 1883\u001b[0m server_session \u001b[39m=\u001b[39m \u001b[39mself\u001b[39;49m\u001b[39m.\u001b[39;49m_get_server_session()\n\u001b[0;32m   1884\u001b[0m opts \u001b[39m=\u001b[39m client_session\u001b[39m.\u001b[39mSessionOptions(\u001b[39m*\u001b[39m\u001b[39m*\u001b[39mkwargs)\n\u001b[0;32m   1885\u001b[0m \u001b[39mreturn\u001b[39;00m client_session\u001b[39m.\u001b[39mClientSession(\n\u001b[0;32m   1886\u001b[0m     \u001b[39mself\u001b[39m, server_session, opts, authset, implicit)\n",
      "File \u001b[1;32mc:\\Users\\AdrienCartonDeWiart\\miniconda3\\envs\\test\\lib\\site-packages\\pymongo\\mongo_client.py:1921\u001b[0m, in \u001b[0;36mMongoClient._get_server_session\u001b[1;34m(self)\u001b[0m\n\u001b[0;32m   1919\u001b[0m \u001b[39mdef\u001b[39;00m \u001b[39m_get_server_session\u001b[39m(\u001b[39mself\u001b[39m):\n\u001b[0;32m   1920\u001b[0m     \u001b[39m\"\"\"Internal: start or resume a _ServerSession.\"\"\"\u001b[39;00m\n\u001b[1;32m-> 1921\u001b[0m     \u001b[39mreturn\u001b[39;00m \u001b[39mself\u001b[39;49m\u001b[39m.\u001b[39;49m_topology\u001b[39m.\u001b[39;49mget_server_session()\n",
      "File \u001b[1;32mc:\\Users\\AdrienCartonDeWiart\\miniconda3\\envs\\test\\lib\\site-packages\\pymongo\\topology.py:520\u001b[0m, in \u001b[0;36mTopology.get_server_session\u001b[1;34m(self)\u001b[0m\n\u001b[0;32m    517\u001b[0m \u001b[39mwith\u001b[39;00m \u001b[39mself\u001b[39m\u001b[39m.\u001b[39m_lock:\n\u001b[0;32m    518\u001b[0m     \u001b[39m# Sessions are always supported in load balanced mode.\u001b[39;00m\n\u001b[0;32m    519\u001b[0m     \u001b[39mif\u001b[39;00m \u001b[39mnot\u001b[39;00m \u001b[39mself\u001b[39m\u001b[39m.\u001b[39m_settings\u001b[39m.\u001b[39mload_balanced:\n\u001b[1;32m--> 520\u001b[0m         session_timeout \u001b[39m=\u001b[39m \u001b[39mself\u001b[39;49m\u001b[39m.\u001b[39;49m_check_session_support()\n\u001b[0;32m    521\u001b[0m     \u001b[39melse\u001b[39;00m:\n\u001b[0;32m    522\u001b[0m         \u001b[39m# Sessions never time out in load balanced mode.\u001b[39;00m\n\u001b[0;32m    523\u001b[0m         session_timeout \u001b[39m=\u001b[39m \u001b[39mfloat\u001b[39m(\u001b[39m'\u001b[39m\u001b[39minf\u001b[39m\u001b[39m'\u001b[39m)\n",
      "File \u001b[1;32mc:\\Users\\AdrienCartonDeWiart\\miniconda3\\envs\\test\\lib\\site-packages\\pymongo\\topology.py:499\u001b[0m, in \u001b[0;36mTopology._check_session_support\u001b[1;34m(self)\u001b[0m\n\u001b[0;32m    497\u001b[0m \u001b[39mif\u001b[39;00m \u001b[39mself\u001b[39m\u001b[39m.\u001b[39m_description\u001b[39m.\u001b[39mtopology_type \u001b[39m==\u001b[39m TOPOLOGY_TYPE\u001b[39m.\u001b[39mSingle:\n\u001b[0;32m    498\u001b[0m     \u001b[39mif\u001b[39;00m \u001b[39mnot\u001b[39;00m \u001b[39mself\u001b[39m\u001b[39m.\u001b[39m_description\u001b[39m.\u001b[39mhas_known_servers:\n\u001b[1;32m--> 499\u001b[0m         \u001b[39mself\u001b[39;49m\u001b[39m.\u001b[39;49m_select_servers_loop(\n\u001b[0;32m    500\u001b[0m             any_server_selector,\n\u001b[0;32m    501\u001b[0m             \u001b[39mself\u001b[39;49m\u001b[39m.\u001b[39;49m_settings\u001b[39m.\u001b[39;49mserver_selection_timeout,\n\u001b[0;32m    502\u001b[0m             \u001b[39mNone\u001b[39;49;00m)\n\u001b[0;32m    503\u001b[0m \u001b[39melif\u001b[39;00m \u001b[39mnot\u001b[39;00m \u001b[39mself\u001b[39m\u001b[39m.\u001b[39m_description\u001b[39m.\u001b[39mreadable_servers:\n\u001b[0;32m    504\u001b[0m     \u001b[39mself\u001b[39m\u001b[39m.\u001b[39m_select_servers_loop(\n\u001b[0;32m    505\u001b[0m         readable_server_selector,\n\u001b[0;32m    506\u001b[0m         \u001b[39mself\u001b[39m\u001b[39m.\u001b[39m_settings\u001b[39m.\u001b[39mserver_selection_timeout,\n\u001b[0;32m    507\u001b[0m         \u001b[39mNone\u001b[39;00m)\n",
      "File \u001b[1;32mc:\\Users\\AdrienCartonDeWiart\\miniconda3\\envs\\test\\lib\\site-packages\\pymongo\\topology.py:218\u001b[0m, in \u001b[0;36mTopology._select_servers_loop\u001b[1;34m(self, selector, timeout, address)\u001b[0m\n\u001b[0;32m    215\u001b[0m \u001b[39mwhile\u001b[39;00m \u001b[39mnot\u001b[39;00m server_descriptions:\n\u001b[0;32m    216\u001b[0m     \u001b[39m# No suitable servers.\u001b[39;00m\n\u001b[0;32m    217\u001b[0m     \u001b[39mif\u001b[39;00m timeout \u001b[39m==\u001b[39m \u001b[39m0\u001b[39m \u001b[39mor\u001b[39;00m now \u001b[39m>\u001b[39m end_time:\n\u001b[1;32m--> 218\u001b[0m         \u001b[39mraise\u001b[39;00m ServerSelectionTimeoutError(\n\u001b[0;32m    219\u001b[0m             \u001b[39m\"\u001b[39m\u001b[39m%s\u001b[39;00m\u001b[39m, Timeout: \u001b[39m\u001b[39m%s\u001b[39;00m\u001b[39ms, Topology Description: \u001b[39m\u001b[39m%r\u001b[39;00m\u001b[39m\"\u001b[39m \u001b[39m%\u001b[39m\n\u001b[0;32m    220\u001b[0m             (\u001b[39mself\u001b[39m\u001b[39m.\u001b[39m_error_message(selector), timeout, \u001b[39mself\u001b[39m\u001b[39m.\u001b[39mdescription))\n\u001b[0;32m    222\u001b[0m     \u001b[39mself\u001b[39m\u001b[39m.\u001b[39m_ensure_opened()\n\u001b[0;32m    223\u001b[0m     \u001b[39mself\u001b[39m\u001b[39m.\u001b[39m_request_check_all()\n",
      "\u001b[1;31mServerSelectionTimeoutError\u001b[0m: 132.217.140.136:27017: timed out, Timeout: 30s, Topology Description: <TopologyDescription id: 62b8d1a8b57c82830dde79b1, topology_type: Single, servers: [<ServerDescription ('132.217.140.136', 27017) server_type: Unknown, rtt: None, error=NetworkTimeout('132.217.140.136:27017: timed out')>]>"
     ]
    }
   ],
   "source": [
    "list(mongo_db.state.find({}))"
   ]
  },
  {
   "cell_type": "code",
   "execution_count": 8,
   "id": "6f95e42d-9c80-4d15-8ff3-c10b2f58e469",
   "metadata": {},
   "outputs": [
    {
     "data": {
      "text/plain": [
       "[{'_id': ObjectId('62a898353eb8414cbceb54c9'), 'name': 'oh hi', 'number': 3}]"
      ]
     },
     "execution_count": 8,
     "metadata": {},
     "output_type": "execute_result"
    }
   ],
   "source": [
    "list(mongo_db_custom.state.find({}))\n",
    "#coucou"
   ]
  },
  {
   "cell_type": "code",
   "execution_count": 5,
   "id": "ccb48b0e-1149-4f17-858c-f024bb2d08a9",
   "metadata": {},
   "outputs": [
    {
     "ename": "NameError",
     "evalue": "name 'mongo_db' is not defined",
     "output_type": "error",
     "traceback": [
      "\u001b[1;31m---------------------------------------------------------------------------\u001b[0m",
      "\u001b[1;31mNameError\u001b[0m                                 Traceback (most recent call last)",
      "\u001b[1;32mc:\\Users\\AdrienCartonDeWiart\\OneDrive - Ananda Devices\\Documents\\CRIM\\NoSql_drosophilia\\Module_Base_de_donnees.ipynb Cell 23'\u001b[0m in \u001b[0;36m<cell line: 1>\u001b[1;34m()\u001b[0m\n\u001b[1;32m----> <a href='vscode-notebook-cell:/c%3A/Users/AdrienCartonDeWiart/OneDrive%20-%20Ananda%20Devices/Documents/CRIM/NoSql_drosophilia/Module_Base_de_donnees.ipynb#ch0000021?line=0'>1</a>\u001b[0m \u001b[39mprint\u001b[39m(mongo_db\u001b[39m.\u001b[39mlist_collection_names())\n",
      "\u001b[1;31mNameError\u001b[0m: name 'mongo_db' is not defined"
     ]
    }
   ],
   "source": [
    "print(mongo_db.list_collection_names())"
   ]
  },
  {
   "cell_type": "code",
   "execution_count": 9,
   "id": "d453cae8",
   "metadata": {},
   "outputs": [],
   "source": [
    "meta_cytoband = pd.read_csv(\"meta-cytoband.csv\")\n",
    "meta_cytoband.columns = [ 'chrom', 'chrom_start','chrom_end', 'name','gie_stain']\n",
    "meta_cytoband.index.names = ['id_cytoband']"
   ]
  },
  {
   "cell_type": "code",
   "execution_count": 20,
   "id": "5f0bbb94",
   "metadata": {},
   "outputs": [],
   "source": [
    "genes_augustus = pd.read_csv('genes-augustus.csv')\n",
    "exonstart = str(genes_augustus.iloc[0,9]).split(sep = ',')\n",
    "exonend = str(genes_augustus.iloc[0,10]).split(sep = ',')\n",
    "exonframe = str(genes_augustus.iloc[0,15]).split(sep = ',')\n",
    "genes_augustus.index = 'augustus' + genes_augustus.index.astype(str)"
   ]
  },
  {
   "cell_type": "code",
   "execution_count": 17,
   "id": "bcd1f565",
   "metadata": {},
   "outputs": [],
   "source": [
    "a_exon = pd.DataFrame(columns=['id_augustus', 'exon_starts','exon_end', 'exon_frames'])"
   ]
  },
  {
   "cell_type": "code",
   "execution_count": 18,
   "id": "85f9c44d",
   "metadata": {},
   "outputs": [
    {
     "data": {
      "text/plain": [
       "13509"
      ]
     },
     "execution_count": 18,
     "metadata": {},
     "output_type": "execute_result"
    }
   ],
   "source": [
    "len(genes_augustus)"
   ]
  },
  {
   "cell_type": "code",
   "execution_count": 21,
   "id": "9ee59052",
   "metadata": {},
   "outputs": [],
   "source": [
    "inc = 0\n",
    "for id_augustus in range(len(genes_augustus)):\n",
    "    exonstart = str(genes_augustus.iloc[id_augustus,9]).split(sep = ',')\n",
    "    exonend = str(genes_augustus.iloc[id_augustus,10]).split(sep = ',')\n",
    "    exonframe = str(genes_augustus.iloc[id_augustus,15]).split(sep = ',')\n",
    "    id_augustus  = ['augustus' + str(id_augustus)]*len(exonend)\n",
    "    df_to_concat = pd.DataFrame({'id_augustus':id_augustus, 'exon_starts' :exonstart,'exon_end':exonend, 'exon_frames':exonframe})\n",
    "    a_exon = pd.concat([a_exon,df_to_concat])\n"
   ]
  },
  {
   "cell_type": "code",
   "execution_count": 11,
   "id": "2d3d4e23",
   "metadata": {},
   "outputs": [],
   "source": [
    "a = [1,2,3,4,5]\n",
    "b = [2,3,4,5,6]\n",
    "df_to_concat = pd.DataFrame({'exon_s':a, 'exon_end':b})\n",
    "a_exon = pd.concat([a_exon,df_to_concat])"
   ]
  },
  {
   "cell_type": "code",
   "execution_count": 43,
   "id": "43043569",
   "metadata": {},
   "outputs": [],
   "source": [
    "test_s = [0,exonstart[0],exonend[0],exonframe[0]]"
   ]
  },
  {
   "cell_type": "code",
   "execution_count": 45,
   "id": "f656bc6c",
   "metadata": {},
   "outputs": [],
   "source": []
  },
  {
   "cell_type": "code",
   "execution_count": 46,
   "id": "6a899eeb",
   "metadata": {},
   "outputs": [],
   "source": [
    "a_exon.loc[0] = test_s"
   ]
  },
  {
   "cell_type": "code",
   "execution_count": 9,
   "id": "76e90885",
   "metadata": {},
   "outputs": [
    {
     "ename": "ServerSelectionTimeoutError",
     "evalue": "132.217.140.136:27017: timed out, Timeout: 30s, Topology Description: <TopologyDescription id: 62acbda2aab1f54f18c30a95, topology_type: Single, servers: [<ServerDescription ('132.217.140.136', 27017) server_type: Unknown, rtt: None, error=NetworkTimeout('132.217.140.136:27017: timed out')>]>",
     "output_type": "error",
     "traceback": [
      "\u001b[1;31m---------------------------------------------------------------------------\u001b[0m",
      "\u001b[1;31mServerSelectionTimeoutError\u001b[0m               Traceback (most recent call last)",
      "\u001b[1;32mc:\\Users\\AdrienCartonDeWiart\\OneDrive - Ananda Devices\\Documents\\CRIM\\NoSql_drosophilia\\Module_Base_de_donnees.ipynb Cell 24'\u001b[0m in \u001b[0;36m<cell line: 1>\u001b[1;34m()\u001b[0m\n\u001b[1;32m----> <a href='vscode-notebook-cell:/c%3A/Users/AdrienCartonDeWiart/OneDrive%20-%20Ananda%20Devices/Documents/CRIM/NoSql_drosophilia/Module_Base_de_donnees.ipynb#ch0000023?line=0'>1</a>\u001b[0m mongo_db\u001b[39m.\u001b[39;49mcytoband\u001b[39m.\u001b[39;49minsert_many(meta_cytoband\u001b[39m.\u001b[39;49mto_dict(\u001b[39m'\u001b[39;49m\u001b[39mrecords\u001b[39;49m\u001b[39m'\u001b[39;49m))\n",
      "File \u001b[1;32mc:\\Users\\AdrienCartonDeWiart\\miniconda3\\envs\\test\\lib\\site-packages\\pymongo\\collection.py:770\u001b[0m, in \u001b[0;36mCollection.insert_many\u001b[1;34m(self, documents, ordered, bypass_document_validation, session)\u001b[0m\n\u001b[0;32m    768\u001b[0m blk \u001b[39m=\u001b[39m _Bulk(\u001b[39mself\u001b[39m, ordered, bypass_document_validation)\n\u001b[0;32m    769\u001b[0m blk\u001b[39m.\u001b[39mops \u001b[39m=\u001b[39m [doc \u001b[39mfor\u001b[39;00m doc \u001b[39min\u001b[39;00m gen()]\n\u001b[1;32m--> 770\u001b[0m blk\u001b[39m.\u001b[39;49mexecute(write_concern, session\u001b[39m=\u001b[39;49msession)\n\u001b[0;32m    771\u001b[0m \u001b[39mreturn\u001b[39;00m InsertManyResult(inserted_ids, write_concern\u001b[39m.\u001b[39macknowledged)\n",
      "File \u001b[1;32mc:\\Users\\AdrienCartonDeWiart\\miniconda3\\envs\\test\\lib\\site-packages\\pymongo\\bulk.py:529\u001b[0m, in \u001b[0;36m_Bulk.execute\u001b[1;34m(self, write_concern, session)\u001b[0m\n\u001b[0;32m    527\u001b[0m         \u001b[39mself\u001b[39m\u001b[39m.\u001b[39mexecute_no_results(sock_info, generator)\n\u001b[0;32m    528\u001b[0m \u001b[39melse\u001b[39;00m:\n\u001b[1;32m--> 529\u001b[0m     \u001b[39mreturn\u001b[39;00m \u001b[39mself\u001b[39;49m\u001b[39m.\u001b[39;49mexecute_command(generator, write_concern, session)\n",
      "File \u001b[1;32mc:\\Users\\AdrienCartonDeWiart\\miniconda3\\envs\\test\\lib\\site-packages\\pymongo\\bulk.py:359\u001b[0m, in \u001b[0;36m_Bulk.execute_command\u001b[1;34m(self, generator, write_concern, session)\u001b[0m\n\u001b[0;32m    354\u001b[0m     \u001b[39mself\u001b[39m\u001b[39m.\u001b[39m_execute_command(\n\u001b[0;32m    355\u001b[0m         generator, write_concern, session, sock_info, op_id,\n\u001b[0;32m    356\u001b[0m         retryable, full_result)\n\u001b[0;32m    358\u001b[0m client \u001b[39m=\u001b[39m \u001b[39mself\u001b[39m\u001b[39m.\u001b[39mcollection\u001b[39m.\u001b[39mdatabase\u001b[39m.\u001b[39mclient\n\u001b[1;32m--> 359\u001b[0m \u001b[39mwith\u001b[39;00m client\u001b[39m.\u001b[39m_tmp_session(session) \u001b[39mas\u001b[39;00m s:\n\u001b[0;32m    360\u001b[0m     client\u001b[39m.\u001b[39m_retry_with_session(\n\u001b[0;32m    361\u001b[0m         \u001b[39mself\u001b[39m\u001b[39m.\u001b[39mis_retryable, retryable_bulk, s, \u001b[39mself\u001b[39m)\n\u001b[0;32m    363\u001b[0m \u001b[39mif\u001b[39;00m full_result[\u001b[39m\"\u001b[39m\u001b[39mwriteErrors\u001b[39m\u001b[39m\"\u001b[39m] \u001b[39mor\u001b[39;00m full_result[\u001b[39m\"\u001b[39m\u001b[39mwriteConcernErrors\u001b[39m\u001b[39m\"\u001b[39m]:\n",
      "File \u001b[1;32mc:\\Users\\AdrienCartonDeWiart\\miniconda3\\envs\\test\\lib\\contextlib.py:119\u001b[0m, in \u001b[0;36m_GeneratorContextManager.__enter__\u001b[1;34m(self)\u001b[0m\n\u001b[0;32m    117\u001b[0m \u001b[39mdel\u001b[39;00m \u001b[39mself\u001b[39m\u001b[39m.\u001b[39margs, \u001b[39mself\u001b[39m\u001b[39m.\u001b[39mkwds, \u001b[39mself\u001b[39m\u001b[39m.\u001b[39mfunc\n\u001b[0;32m    118\u001b[0m \u001b[39mtry\u001b[39;00m:\n\u001b[1;32m--> 119\u001b[0m     \u001b[39mreturn\u001b[39;00m \u001b[39mnext\u001b[39;49m(\u001b[39mself\u001b[39;49m\u001b[39m.\u001b[39;49mgen)\n\u001b[0;32m    120\u001b[0m \u001b[39mexcept\u001b[39;00m \u001b[39mStopIteration\u001b[39;00m:\n\u001b[0;32m    121\u001b[0m     \u001b[39mraise\u001b[39;00m \u001b[39mRuntimeError\u001b[39;00m(\u001b[39m\"\u001b[39m\u001b[39mgenerator didn\u001b[39m\u001b[39m'\u001b[39m\u001b[39mt yield\u001b[39m\u001b[39m\"\u001b[39m) \u001b[39mfrom\u001b[39;00m \u001b[39mNone\u001b[39m\n",
      "File \u001b[1;32mc:\\Users\\AdrienCartonDeWiart\\miniconda3\\envs\\test\\lib\\site-packages\\pymongo\\mongo_client.py:1948\u001b[0m, in \u001b[0;36mMongoClient._tmp_session\u001b[1;34m(self, session, close)\u001b[0m\n\u001b[0;32m   1945\u001b[0m     \u001b[39myield\u001b[39;00m session\n\u001b[0;32m   1946\u001b[0m     \u001b[39mreturn\u001b[39;00m\n\u001b[1;32m-> 1948\u001b[0m s \u001b[39m=\u001b[39m \u001b[39mself\u001b[39;49m\u001b[39m.\u001b[39;49m_ensure_session(session)\n\u001b[0;32m   1949\u001b[0m \u001b[39mif\u001b[39;00m s:\n\u001b[0;32m   1950\u001b[0m     \u001b[39mtry\u001b[39;00m:\n",
      "File \u001b[1;32mc:\\Users\\AdrienCartonDeWiart\\miniconda3\\envs\\test\\lib\\site-packages\\pymongo\\mongo_client.py:1935\u001b[0m, in \u001b[0;36mMongoClient._ensure_session\u001b[1;34m(self, session)\u001b[0m\n\u001b[0;32m   1930\u001b[0m     \u001b[39mreturn\u001b[39;00m session\n\u001b[0;32m   1932\u001b[0m \u001b[39mtry\u001b[39;00m:\n\u001b[0;32m   1933\u001b[0m     \u001b[39m# Don't make implicit sessions causally consistent. Applications\u001b[39;00m\n\u001b[0;32m   1934\u001b[0m     \u001b[39m# should always opt-in.\u001b[39;00m\n\u001b[1;32m-> 1935\u001b[0m     \u001b[39mreturn\u001b[39;00m \u001b[39mself\u001b[39;49m\u001b[39m.\u001b[39;49m__start_session(\u001b[39mTrue\u001b[39;49;00m, causal_consistency\u001b[39m=\u001b[39;49m\u001b[39mFalse\u001b[39;49;00m)\n\u001b[0;32m   1936\u001b[0m \u001b[39mexcept\u001b[39;00m (ConfigurationError, InvalidOperation):\n\u001b[0;32m   1937\u001b[0m     \u001b[39m# Sessions not supported, or multiple users authenticated.\u001b[39;00m\n\u001b[0;32m   1938\u001b[0m     \u001b[39mreturn\u001b[39;00m \u001b[39mNone\u001b[39;00m\n",
      "File \u001b[1;32mc:\\Users\\AdrienCartonDeWiart\\miniconda3\\envs\\test\\lib\\site-packages\\pymongo\\mongo_client.py:1883\u001b[0m, in \u001b[0;36mMongoClient.__start_session\u001b[1;34m(self, implicit, **kwargs)\u001b[0m\n\u001b[0;32m   1879\u001b[0m     \u001b[39mraise\u001b[39;00m InvalidOperation(\u001b[39m\"\u001b[39m\u001b[39mCannot call start_session when\u001b[39m\u001b[39m\"\u001b[39m\n\u001b[0;32m   1880\u001b[0m                            \u001b[39m\"\u001b[39m\u001b[39m multiple users are authenticated\u001b[39m\u001b[39m\"\u001b[39m)\n\u001b[0;32m   1882\u001b[0m \u001b[39m# Raises ConfigurationError if sessions are not supported.\u001b[39;00m\n\u001b[1;32m-> 1883\u001b[0m server_session \u001b[39m=\u001b[39m \u001b[39mself\u001b[39;49m\u001b[39m.\u001b[39;49m_get_server_session()\n\u001b[0;32m   1884\u001b[0m opts \u001b[39m=\u001b[39m client_session\u001b[39m.\u001b[39mSessionOptions(\u001b[39m*\u001b[39m\u001b[39m*\u001b[39mkwargs)\n\u001b[0;32m   1885\u001b[0m \u001b[39mreturn\u001b[39;00m client_session\u001b[39m.\u001b[39mClientSession(\n\u001b[0;32m   1886\u001b[0m     \u001b[39mself\u001b[39m, server_session, opts, authset, implicit)\n",
      "File \u001b[1;32mc:\\Users\\AdrienCartonDeWiart\\miniconda3\\envs\\test\\lib\\site-packages\\pymongo\\mongo_client.py:1921\u001b[0m, in \u001b[0;36mMongoClient._get_server_session\u001b[1;34m(self)\u001b[0m\n\u001b[0;32m   1919\u001b[0m \u001b[39mdef\u001b[39;00m \u001b[39m_get_server_session\u001b[39m(\u001b[39mself\u001b[39m):\n\u001b[0;32m   1920\u001b[0m     \u001b[39m\"\"\"Internal: start or resume a _ServerSession.\"\"\"\u001b[39;00m\n\u001b[1;32m-> 1921\u001b[0m     \u001b[39mreturn\u001b[39;00m \u001b[39mself\u001b[39;49m\u001b[39m.\u001b[39;49m_topology\u001b[39m.\u001b[39;49mget_server_session()\n",
      "File \u001b[1;32mc:\\Users\\AdrienCartonDeWiart\\miniconda3\\envs\\test\\lib\\site-packages\\pymongo\\topology.py:520\u001b[0m, in \u001b[0;36mTopology.get_server_session\u001b[1;34m(self)\u001b[0m\n\u001b[0;32m    517\u001b[0m \u001b[39mwith\u001b[39;00m \u001b[39mself\u001b[39m\u001b[39m.\u001b[39m_lock:\n\u001b[0;32m    518\u001b[0m     \u001b[39m# Sessions are always supported in load balanced mode.\u001b[39;00m\n\u001b[0;32m    519\u001b[0m     \u001b[39mif\u001b[39;00m \u001b[39mnot\u001b[39;00m \u001b[39mself\u001b[39m\u001b[39m.\u001b[39m_settings\u001b[39m.\u001b[39mload_balanced:\n\u001b[1;32m--> 520\u001b[0m         session_timeout \u001b[39m=\u001b[39m \u001b[39mself\u001b[39;49m\u001b[39m.\u001b[39;49m_check_session_support()\n\u001b[0;32m    521\u001b[0m     \u001b[39melse\u001b[39;00m:\n\u001b[0;32m    522\u001b[0m         \u001b[39m# Sessions never time out in load balanced mode.\u001b[39;00m\n\u001b[0;32m    523\u001b[0m         session_timeout \u001b[39m=\u001b[39m \u001b[39mfloat\u001b[39m(\u001b[39m'\u001b[39m\u001b[39minf\u001b[39m\u001b[39m'\u001b[39m)\n",
      "File \u001b[1;32mc:\\Users\\AdrienCartonDeWiart\\miniconda3\\envs\\test\\lib\\site-packages\\pymongo\\topology.py:499\u001b[0m, in \u001b[0;36mTopology._check_session_support\u001b[1;34m(self)\u001b[0m\n\u001b[0;32m    497\u001b[0m \u001b[39mif\u001b[39;00m \u001b[39mself\u001b[39m\u001b[39m.\u001b[39m_description\u001b[39m.\u001b[39mtopology_type \u001b[39m==\u001b[39m TOPOLOGY_TYPE\u001b[39m.\u001b[39mSingle:\n\u001b[0;32m    498\u001b[0m     \u001b[39mif\u001b[39;00m \u001b[39mnot\u001b[39;00m \u001b[39mself\u001b[39m\u001b[39m.\u001b[39m_description\u001b[39m.\u001b[39mhas_known_servers:\n\u001b[1;32m--> 499\u001b[0m         \u001b[39mself\u001b[39;49m\u001b[39m.\u001b[39;49m_select_servers_loop(\n\u001b[0;32m    500\u001b[0m             any_server_selector,\n\u001b[0;32m    501\u001b[0m             \u001b[39mself\u001b[39;49m\u001b[39m.\u001b[39;49m_settings\u001b[39m.\u001b[39;49mserver_selection_timeout,\n\u001b[0;32m    502\u001b[0m             \u001b[39mNone\u001b[39;49;00m)\n\u001b[0;32m    503\u001b[0m \u001b[39melif\u001b[39;00m \u001b[39mnot\u001b[39;00m \u001b[39mself\u001b[39m\u001b[39m.\u001b[39m_description\u001b[39m.\u001b[39mreadable_servers:\n\u001b[0;32m    504\u001b[0m     \u001b[39mself\u001b[39m\u001b[39m.\u001b[39m_select_servers_loop(\n\u001b[0;32m    505\u001b[0m         readable_server_selector,\n\u001b[0;32m    506\u001b[0m         \u001b[39mself\u001b[39m\u001b[39m.\u001b[39m_settings\u001b[39m.\u001b[39mserver_selection_timeout,\n\u001b[0;32m    507\u001b[0m         \u001b[39mNone\u001b[39;00m)\n",
      "File \u001b[1;32mc:\\Users\\AdrienCartonDeWiart\\miniconda3\\envs\\test\\lib\\site-packages\\pymongo\\topology.py:218\u001b[0m, in \u001b[0;36mTopology._select_servers_loop\u001b[1;34m(self, selector, timeout, address)\u001b[0m\n\u001b[0;32m    215\u001b[0m \u001b[39mwhile\u001b[39;00m \u001b[39mnot\u001b[39;00m server_descriptions:\n\u001b[0;32m    216\u001b[0m     \u001b[39m# No suitable servers.\u001b[39;00m\n\u001b[0;32m    217\u001b[0m     \u001b[39mif\u001b[39;00m timeout \u001b[39m==\u001b[39m \u001b[39m0\u001b[39m \u001b[39mor\u001b[39;00m now \u001b[39m>\u001b[39m end_time:\n\u001b[1;32m--> 218\u001b[0m         \u001b[39mraise\u001b[39;00m ServerSelectionTimeoutError(\n\u001b[0;32m    219\u001b[0m             \u001b[39m\"\u001b[39m\u001b[39m%s\u001b[39;00m\u001b[39m, Timeout: \u001b[39m\u001b[39m%s\u001b[39;00m\u001b[39ms, Topology Description: \u001b[39m\u001b[39m%r\u001b[39;00m\u001b[39m\"\u001b[39m \u001b[39m%\u001b[39m\n\u001b[0;32m    220\u001b[0m             (\u001b[39mself\u001b[39m\u001b[39m.\u001b[39m_error_message(selector), timeout, \u001b[39mself\u001b[39m\u001b[39m.\u001b[39mdescription))\n\u001b[0;32m    222\u001b[0m     \u001b[39mself\u001b[39m\u001b[39m.\u001b[39m_ensure_opened()\n\u001b[0;32m    223\u001b[0m     \u001b[39mself\u001b[39m\u001b[39m.\u001b[39m_request_check_all()\n",
      "\u001b[1;31mServerSelectionTimeoutError\u001b[0m: 132.217.140.136:27017: timed out, Timeout: 30s, Topology Description: <TopologyDescription id: 62acbda2aab1f54f18c30a95, topology_type: Single, servers: [<ServerDescription ('132.217.140.136', 27017) server_type: Unknown, rtt: None, error=NetworkTimeout('132.217.140.136:27017: timed out')>]>"
     ]
    }
   ],
   "source": [
    "mongo_db.cytoband.insert_many(meta_cytoband.to_dict('records'))"
   ]
  }
 ],
 "metadata": {
  "interpreter": {
   "hash": "fc0a302680d058ef0fa4119b75a1262ced3837a9c800339c330492bf5094d7de"
  },
  "kernelspec": {
   "display_name": "Python 3.9.12 ('test')",
   "language": "python",
   "name": "python3"
  },
  "language_info": {
   "codemirror_mode": {
    "name": "ipython",
    "version": 3
   },
   "file_extension": ".py",
   "mimetype": "text/x-python",
   "name": "python",
   "nbconvert_exporter": "python",
   "pygments_lexer": "ipython3",
   "version": "3.9.12"
  }
 },
 "nbformat": 4,
 "nbformat_minor": 5
}
