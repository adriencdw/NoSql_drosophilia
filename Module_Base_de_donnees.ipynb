{
 "cells": [
  {
   "cell_type": "code",
   "execution_count": null,
   "id": "0c886d90-c28a-4ccd-8caf-f2b385dcd4a4",
   "metadata": {},
   "outputs": [],
   "source": [
    "# Replace this IP address according to the VM assigned to you\n",
    "vm_ip_address = \"132.217.140.220\""
   ]
  },
  {
   "cell_type": "markdown",
   "id": "4035dcc0-a77e-4c72-8b75-24233943bfc1",
   "metadata": {},
   "source": [
    "# PostgreSQL"
   ]
  },
  {
   "cell_type": "code",
   "execution_count": null,
   "id": "e7c338ce-cab2-42cb-b337-2767c561d89f",
   "metadata": {},
   "outputs": [],
   "source": [
    "import psycopg2"
   ]
  },
  {
   "cell_type": "code",
   "execution_count": null,
   "id": "60bd5109-0b7e-4ebd-b122-6b56d4cddc1e",
   "metadata": {},
   "outputs": [],
   "source": [
    "#postgres_conn = psycopg2.connect(host=vm_ip_address, database=\"numeria\", user=\"numeria\", password=\"qwerty\")\n",
    "postgres_conn = psycopg2.connect(host=vm_ip_address, database=\"numeria\", user=\"student\", password=\"postgres123\")\n",
    "postgres_cur = postgres_conn.cursor()"
   ]
  },
  {
   "cell_type": "code",
   "execution_count": null,
   "id": "a70c219e-27ee-4c46-9a50-eea70948e608",
   "metadata": {},
   "outputs": [],
   "source": [
    "postgres_cur.execute(\"CREATE TABLE test (test_id INTEGER NOT NULL, PRIMARY KEY (test_id))\")"
   ]
  },
  {
   "cell_type": "code",
   "execution_count": null,
   "id": "4a471a00-230e-447c-8b53-f0e8ba821ffa",
   "metadata": {},
   "outputs": [],
   "source": [
    "postgres_cur.execute(\"INSERT INTO test VALUES(1)\")"
   ]
  },
  {
   "cell_type": "code",
   "execution_count": null,
   "id": "eab7192a-1081-4d14-8db7-fe72a2e0abd8",
   "metadata": {},
   "outputs": [],
   "source": [
    "postgres_conn.commit()"
   ]
  },
  {
   "cell_type": "code",
   "execution_count": null,
   "id": "17c3f397-ec61-49c1-bff2-2e8414bac37a",
   "metadata": {},
   "outputs": [],
   "source": [
    "postgres_cur.execute(\"SELECT * FROM test\")"
   ]
  },
  {
   "cell_type": "code",
   "execution_count": null,
   "id": "5adc1f19-3d4d-49f7-b1df-08ad53554cff",
   "metadata": {},
   "outputs": [],
   "source": [
    "postgres_cur.execute(\"INSERT INTO state VALUES('state_name 543', 730432810, 422672.0, 'usa', 'capital 0', 1041984.0);\")\n",
    "postgres_conn.commit()"
   ]
  },
  {
   "cell_type": "code",
   "execution_count": null,
   "id": "7be1cca1-1b3f-40ba-ac05-ef1144ad34fd",
   "metadata": {},
   "outputs": [],
   "source": [
    "postgres_cur.execute(\"SELECT count(*) FROM state\")"
   ]
  },
  {
   "cell_type": "code",
   "execution_count": null,
   "id": "022a1328-5460-4c49-8f1b-821162668362",
   "metadata": {},
   "outputs": [],
   "source": [
    "postgres_cur.fetchall()\n",
    "#cur.fetchone(); \n",
    "#cur.fetchmany(size);"
   ]
  },
  {
   "cell_type": "code",
   "execution_count": null,
   "id": "629f73fe-1560-40a3-b958-43861e8a1e28",
   "metadata": {},
   "outputs": [],
   "source": [
    "postgres_cur.close()"
   ]
  },
  {
   "cell_type": "code",
   "execution_count": null,
   "id": "02032141-0099-4cb9-b56b-83d5b3fe9796",
   "metadata": {},
   "outputs": [],
   "source": [
    "# if error : psycopg2.errors.InFailedSqlTransaction: current transaction is aborted, commands ignored until end of transaction block\n",
    "postgres_conn.rollback()\n",
    "\n",
    "# recommendation : faire un block try...except... et faire le conn.rollback() dans le except"
   ]
  },
  {
   "cell_type": "markdown",
   "id": "a97e5900-2caf-4393-874b-d784fa6e8ff7",
   "metadata": {},
   "source": [
    "# MongoDB"
   ]
  },
  {
   "cell_type": "code",
   "execution_count": null,
   "id": "78eb6dd0-f37f-47da-9f3e-65667f282219",
   "metadata": {},
   "outputs": [],
   "source": [
    "from pymongo import MongoClient"
   ]
  },
  {
   "cell_type": "code",
   "execution_count": null,
   "id": "02e6e6e7-5436-4aee-95c9-405c665e53a8",
   "metadata": {},
   "outputs": [],
   "source": [
    "#mongo_client = MongoClient(f\"{vm_ip_address}:27017\", username = 'root', password = 'rootPassNumeria')\n",
    "mongo_client = MongoClient(f\"{vm_ip_address}:27017\", username = 'student', password = 'mongodb123')"
   ]
  },
  {
   "cell_type": "code",
   "execution_count": null,
   "id": "7b4de3f4-0aea-4e6d-85b8-b69ec5c96d72",
   "metadata": {},
   "outputs": [],
   "source": [
    "mongo_db=mongo_client.numeria"
   ]
  },
  {
   "cell_type": "code",
   "execution_count": null,
   "id": "3e116773-e9d4-4619-aee1-91ee8db10656",
   "metadata": {},
   "outputs": [],
   "source": [
    "mongo_db_custom=mongo_client.numeria_custom"
   ]
  },
  {
   "cell_type": "code",
   "execution_count": null,
   "id": "0720fe47-70fb-4851-9337-dbecd63e234e",
   "metadata": {
    "tags": []
   },
   "outputs": [],
   "source": [
    "mongo_db.state.insert_one({'name': 'oh hi', 'number' : 3})"
   ]
  },
  {
   "cell_type": "code",
   "execution_count": null,
   "id": "29c79165-6a10-4923-89b4-68945c56b2dd",
   "metadata": {},
   "outputs": [],
   "source": [
    "mongo_db_custom.state.insert_one({'name': 'oh hi', 'number' : 3})"
   ]
  },
  {
   "cell_type": "code",
   "execution_count": null,
   "id": "dfed1567-85f6-48d1-80b1-4bd9a3f417f6",
   "metadata": {},
   "outputs": [],
   "source": [
    "list(mongo_db.state.find({}))"
   ]
  },
  {
   "cell_type": "code",
   "execution_count": null,
   "id": "6f95e42d-9c80-4d15-8ff3-c10b2f58e469",
   "metadata": {},
   "outputs": [],
   "source": [
    "list(mongo_db_custom.state.find({}))"
   ]
  },
  {
   "cell_type": "code",
   "execution_count": null,
   "id": "ccb48b0e-1149-4f17-858c-f024bb2d08a9",
   "metadata": {},
   "outputs": [],
   "source": []
  }
 ],
 "metadata": {
  "kernelspec": {
   "display_name": "Python 3 (ipykernel)",
   "language": "python",
   "name": "python3"
  },
  "language_info": {
   "codemirror_mode": {
    "name": "ipython",
    "version": 3
   },
   "file_extension": ".py",
   "mimetype": "text/x-python",
   "name": "python",
   "nbconvert_exporter": "python",
   "pygments_lexer": "ipython3",
   "version": "3.9.7"
  }
 },
 "nbformat": 4,
 "nbformat_minor": 5
}
